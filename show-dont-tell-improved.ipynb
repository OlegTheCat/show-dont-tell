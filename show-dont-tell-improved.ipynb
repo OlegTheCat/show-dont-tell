{
 "cells": [
  {
   "cell_type": "code",
   "execution_count": 17,
   "metadata": {},
   "outputs": [
    {
     "data": {
      "text/plain": [
       "tell    118\n",
       "show     15\n",
       "Name: label, dtype: int64"
      ]
     },
     "execution_count": 17,
     "metadata": {},
     "output_type": "execute_result"
    }
   ],
   "source": [
    "import pandas as pd\n",
    "\n",
    "def read_txt_datasets(show_path, tell_path):\n",
    "    with open(show_path, 'r') as f:\n",
    "        show_sents = f.readlines()\n",
    "    \n",
    "    with open(tell_path, 'r') as f:\n",
    "        tell_sents = f.readlines()\n",
    "\n",
    "    dataset = pd.DataFrame({'sentence': show_sents + tell_sents,\n",
    "                            'label': ['show'] * len(show_sents) + ['tell'] * len(tell_sents)})\n",
    "\n",
    "    dataset['sentence'] = dataset['sentence'].str.strip()\n",
    "    \n",
    "    return dataset\n",
    "\n",
    "katia_eval_dataset = read_txt_datasets('katia-show.txt', 'katia-tell.txt')\n",
    "eval_ds = read_txt_datasets('show-validation.txt', 'tell-validation.txt')\n",
    "train_ds = pd.read_csv('dataset.csv')\n"
   ]
  },
  {
   "cell_type": "code",
   "execution_count": 3,
   "metadata": {},
   "outputs": [],
   "source": [
    "dataset = pd.read_csv('dataset.csv')"
   ]
  },
  {
   "cell_type": "code",
   "execution_count": 26,
   "metadata": {},
   "outputs": [],
   "source": [
    "dataset = dataset[~dataset['sentence'].isin(katia_dataset['sentence'])]"
   ]
  },
  {
   "cell_type": "code",
   "execution_count": 31,
   "metadata": {},
   "outputs": [],
   "source": [
    "import csv\n",
    "dataset.to_csv('dataset.csv', index=False, quoting=csv.QUOTE_ALL)"
   ]
  },
  {
   "cell_type": "code",
   "execution_count": 32,
   "metadata": {},
   "outputs": [
    {
     "data": {
      "text/plain": [
       "1"
      ]
     },
     "execution_count": 32,
     "metadata": {},
     "output_type": "execute_result"
    }
   ],
   "source": [
    "csv.QUOTE_ALL"
   ]
  },
  {
   "cell_type": "code",
   "execution_count": 22,
   "metadata": {},
   "outputs": [
    {
     "data": {
      "text/plain": [
       "133"
      ]
     },
     "execution_count": 22,
     "metadata": {},
     "output_type": "execute_result"
    }
   ],
   "source": [
    "len(katia_dataset)"
   ]
  },
  {
   "cell_type": "code",
   "execution_count": 18,
   "metadata": {},
   "outputs": [
    {
     "data": {
      "text/plain": [
       "{'A piece that he had written to clear the agony of his soul had had some far reaching consequence.',\n",
       " 'A sincere apology is a heart melting and ego diminishing process for both the speaker and the recipient and gives strength to bury the hatchet.',\n",
       " 'A strenuous workout with the horses under the watchful eyes of his master had taken its toll.',\n",
       " 'A well branched ancient tree was there, spreading its branches over the wall itself.',\n",
       " 'After hearing my question her face turned on and she replied with extreme passion.',\n",
       " 'After the long years of warmth and summer, the cruel winter was approaching.',\n",
       " 'Alas, words of praise cannot feed empty stomach.',\n",
       " 'All feared that God would not overlook the slightest sin and would award exemplary punishment to the evil minded person.',\n",
       " 'All the fingers acted to the occasion as needed and unlocked the door, all he is needs is a just a gentle push to open the door and jump.',\n",
       " 'All this was drafted in broken sentences ,but was enough to unveil the signification.',\n",
       " 'And the earth split under its power…',\n",
       " 'Anger led to mistakes, something he could not afford on this mission.',\n",
       " 'As the vacuum roared, Molly thought to herself, “why has God forsaken us?’’',\n",
       " 'As we were just to reach his home, as it appeared from his relaxed facial expressions, his vehicle witnessed some problem and he turned for a garage.',\n",
       " 'At the exit I hailed for a taxi, praying that it would arrive before the man did and we could escape this nightmare before any untoward incident occurred.',\n",
       " 'Because the burn marks will stay on even when the burn is healed…',\n",
       " 'Books and music were his greatest delights while not shuttling between prisons, detention centres and courts and while not catching up with case files or paper work.',\n",
       " 'But Nature is getting vexed and becoming very angry because billions of human beings have started throwing filth, dirt and smoke in billions of tons carbon fumes , carbon dust, insecticides, chemicals and the villainous deathless plastic.',\n",
       " 'But his smile was saying everything.',\n",
       " 'But that sentence made her drink faster.',\n",
       " 'But the pain keeps me firm on my path.',\n",
       " 'But this burning ball of fire was much stronger and much hotter.',\n",
       " 'But those incidents left a deep scar and only the bearer knows how much pain that scar caused.',\n",
       " 'Calls streamed in.',\n",
       " 'Cheap alcohols always had such a hit-you-hard effect but I had no choice – the group that I choose to merry-make with can afford only cheap country liquor in pouches.',\n",
       " 'Chocolate fell from hand.',\n",
       " 'Days passed, seasons cycled periodically.',\n",
       " 'Few thin flocks of smoke aimlessly floated around before migrating to non-existence.',\n",
       " 'Food no longer entertained the taste buds, and the aroma of coffee was now replaced by something bigger – and horrible…',\n",
       " 'He had seen fire which gave out heat during the dry days.',\n",
       " 'He had seen it traveling on the blue blanket above.',\n",
       " 'He was heavily mortified and yet, the uppermost thing on his mind was air.',\n",
       " 'He watched the man slicing up the boiled potatoes and arranging them in a circle around the plate, adding crispies and other delicacies into it, then finally topping it with chaat masala (the spicy mix that made his mouth water everytime) and a dollop of tarmarind chutney.',\n",
       " 'Her askew arms were hanging loosely over humped shoulders.',\n",
       " 'Her eyes opened to see not an ugly duckling, but a\\xa0beautiful swan.',\n",
       " 'Her face was aglow in the setting sun even as her hair flew across it.',\n",
       " 'Her head was bent and her hands were on her thighs.',\n",
       " 'Her life and its problems seemed so far away and trivial; they seemed completely insignificant.',\n",
       " 'Her mind was full of worries.',\n",
       " 'Her skin glowed and the auburn hair cascaded freely on her beautifully tattered clothes.',\n",
       " 'His confidence began to return and he fetched his bag, holding it now between his arms since the strap had come off in the hustle-bustle.',\n",
       " 'His every subordinate and even few office staffs from other department also thought many times before approaching him.',\n",
       " 'His eyes deeply lost in thoughts into the half blue, half cloudy and sunny sky.',\n",
       " 'His eyes forgot to blink and became red.',\n",
       " 'His eyes frantically roved over the space around him and he saw his modest bag suspended in the air supported by someone’s elbow and another’s shoulder.',\n",
       " 'His eyes had darkened and his hands bled with the bruises of dried clay.',\n",
       " 'His eyes opened in astonishment, after found that, the person got seriously injured but he is alive.',\n",
       " 'His eyes were actually smaller than what they had been earlier.',\n",
       " 'His legs had begun to give in as I felt that he could piss his pants any second now.',\n",
       " 'His master, with his cronies, soon was sprawled on cushions laid haphazardly about, and all were totally soused.',\n",
       " 'His mother’s shriek made him look up, he was blocking her way, not letting her come to his aid.',\n",
       " 'His only reason to look forward was his child.',\n",
       " 'His shabby seersucker suit was hanging rakishly over his slender body.',\n",
       " 'His throat was dry.',\n",
       " 'I feel nostalgic, I want to cry but tears would not come out as I am myself a drop.',\n",
       " 'I see that the west wing has been lit up for a test run, immediately my mind rests on the most possible scenario, the worst!',\n",
       " 'I started walking, but the time and distance seemed endless, my knees trembled and my breath came around laboured as I toiled up.',\n",
       " 'I tried \\xa0my \\xa0best \\xa0with \\xa0utmost \\xa0difficulty \\xa0to \\xa0call \\xa0that \\xa0man \\xa0but \\xa0his \\xa0image \\xa0faded \\xa0out \\xa0in \\xa0the \\xa0cool, moisture – filled \\xa0evening \\xa0breeze \\xa0of \\xa0the beach, \\xa0eventually.',\n",
       " 'Imagination is a disease enjoyed by the stressed, cublicle-d, middle management clone humanoids of mega large corporate companies.',\n",
       " 'In this modern day, right has become wrong, and wrong has become right – such an irony!',\n",
       " 'It was 6.18 p.m , as i sat sipping the hot brew, a dragging, moaning-groaning sound reached my ears, before i could realize what was happening the cup slipped from my hands, it teetered, tottered and was smashed into smitherens.',\n",
       " 'It was crowded with energetic and enthusiastic youngsters who were having the best time of their lives on rides and playing arcade games in booths.',\n",
       " 'It was nowhere near love.',\n",
       " 'Its doors were open for anyone who seek knowledge and knowledge was all it offered.',\n",
       " 'Just then, the doors mercifully opened and he vomited out onto a sidewalk while holding fast onto the door handle.',\n",
       " 'Life is never a cake walk.',\n",
       " 'Like a blinking of eyes two another days passed.',\n",
       " 'Like vultures sniffing out carrion, the media sniffed out a story in the Station Platform.',\n",
       " 'Little did I know that the events that lay ahead would forever leave a mark on my memory.',\n",
       " 'My eyes frantically searching for the mains, as my mind formulates various scenarios that could have caused the spark.',\n",
       " 'Neha noticed somebody, who was staring her, firstly she ignored but after sometime she saw the same pair of eyes staring her again in a pretty constant way, it happened for next half an hour or so and then she reached her collage.',\n",
       " 'Nevertheless, more importantly these little changes in our life’s strategy can give us peace of mind that all of us are looking for in this rat race of becoming successful without forgetting and disappointing others and ourselves.',\n",
       " 'Newly constructed marble stands for the spectators sparkled in the morning sun.',\n",
       " 'Now, I like to think I am a tolerant man, but a tired mind can work tricks.',\n",
       " 'Panting heavily, the laziness inside me prompted me to take a halt before turning back.',\n",
       " 'Raindrops carried the things away at least once in year so I too changed my course with the course of stream.',\n",
       " 'She was about to speak but her words were deafen by a loud horn.',\n",
       " 'She was adding a whole cup of sugar into her coffee yet it tasted bland.',\n",
       " 'Soon it was finished with a spoonful of powdered jaggery but the night grew lazily.',\n",
       " 'Such a boring safety device and no girls can see his face, which he considered worth a look..',\n",
       " 'Suddenly, his thoughts vanished, when the bus bumped on the speed-breakers.',\n",
       " 'Tears rolling onto her pillow and her heart’s breaking and she thought of everything that could make her cry.',\n",
       " 'Ten thousand years ago it was all greenery and soft rain and musical hilly streams and green carpet like pasteurs.',\n",
       " 'That slap really shook me, woke me up, but before I could react the bus stopped and she got down.',\n",
       " 'The Interest is fire to burn natural resources of small, little families taking loans and the interests grow to eat entire family soon.',\n",
       " 'The air was dry and the wind left a bitter taste in my mouth as it blew past me.',\n",
       " 'The air was gamy with the stench of gunpowder.',\n",
       " 'The big ball of fire burnt with all its heat.',\n",
       " 'The blue blanket changed its colour.',\n",
       " 'The bus lurched to another stop.',\n",
       " 'The cigarette kept burning itself without a pause.',\n",
       " 'The coffee cup in my hand was almost empty.',\n",
       " 'The contrast among the pinkish tinch of her face and her black attire helplessly multifolded her attractiveness.',\n",
       " 'The cruel, lifeless statue in clay continued to smile knowingly.',\n",
       " 'The darkness in the weather felt welcoming.',\n",
       " 'The day I was to catch my flight for Hyderabad my excitement knew no bounds.',\n",
       " 'The dolls watched as Erin swept up the remains of their daughter.',\n",
       " 'The fat aunty was sleeping with her mouth open, head rolling on to her neighbors’ shoulder every time the bus made a turn.',\n",
       " 'The flashing lights now eclipsing our rear view mirrors as the ringing from the sirens pounded our ear drums.',\n",
       " 'The future could be brighter but this day was as real as the cracks in her fingers.',\n",
       " 'The glorious morning beckoned him.',\n",
       " 'The hammer looked too big in her tender hand.',\n",
       " 'The harsh buzzing of the doorbell startled me.',\n",
       " 'The informal discussion becomes a torturous conversation.',\n",
       " 'The knocks on the door had faded.',\n",
       " 'The muscles of my arm bunch as I pick up the heavy axe, that none else living can wield.',\n",
       " 'The newly presented diamond ring is much enough to bring smile on his wife’s three-year old face.',\n",
       " 'The only rule was the rule of existence and survival.',\n",
       " 'The park looked deserted.',\n",
       " 'The patrol car behind us slammed hard against our trunk and gave us both a powerful jolt upon our necks.',\n",
       " 'The scars weren’t clearly visible behind her hands struggling with her hair, but anyone could make out it was her.',\n",
       " 'The technologist and scientist, the news paper man, the tv man ,the professor and teacher –all say that the digital phone , I-pad, the TV , the aero plane and all such things shrunk the world as if the world was a paper to be crumpled between fingers.',\n",
       " 'The train rushed into the platform in a wild frenzy.',\n",
       " 'The two brats recovered their car and instead of going for a police complaint they decided to erase the incident from their memory so as to rid themselves of the pain of recalling the humiliation, when they woke up rubbing their nose in the city’s wasteland after a night gone wrong.',\n",
       " 'The upper three buttons of his safari suit were open to making two heavy gold chains and a bumper crop of chest hair visible.',\n",
       " 'The whole responsibility lies on the shoulders of the parents, some decent relatives lend you their helping hands, but the ones who throw their weight around and keep complaining are constantly play a spoil-sport , as true trouble-makers.',\n",
       " 'The word retirement has not gone well with him despite of the fact, that he now helps my mother in house-hold chores, pays monthly bills himself instead of any helper, gets up early morning to take his dog out for walks, maintaining his lawn and kitchen garden all by himself , putting clothes in the washing machine and many such other things, which he himself was not aware till his retirement.',\n",
       " 'The works they create takes several generations to understand and decipher, let alone explaining.',\n",
       " 'Then a crushing straight right to his bloody nose and sent him in to the ropes once again and with that I send out a left hook then a right hook then another left hook and then another right hook, then I move down to the body and sent out a bone rattling left hook and then a right hook and then another left hook, then another right hook, then another left hook, each hit I land my opponent gets weaker, each hit he grows more tired, so he couldn’t bring his arms in to a firm guard and so my punches can slip right through it.',\n",
       " 'Then an urge to view the attachments conquers me.',\n",
       " 'There was not yet any police to visit the place as it was very sudden incident in the remote place of the ring road.',\n",
       " 'These solutions can work as if it is a magic band for people who are facing these situations in daily life on regular basis.',\n",
       " 'They sound like the music that used to fill the air around my pond.',\n",
       " 'They were still staring at her, eyes opened wide like frightened children.',\n",
       " 'This worm of curiousness was growing faster than fungi.',\n",
       " 'Those school days of sixties reminded me how we listened to the commentaries by our radios, we are proud of having the TV set in our house these days and are fortunate to watch live telecast of all games & sports with our open eyes.',\n",
       " 'Traveled to the moments that broke down his integrity, confidence and most importantly his happiness.',\n",
       " 'Underneath the land that has witnessed the worst genocide of its life, bereaved rebels were planning their next move in a covert subterranean bunker.',\n",
       " 'We had hardly gone a few paces on the platform when I heard a voice screaming in my direction.',\n",
       " 'When water leaves your body, skin dries up, earth and insects pierce through your skin till nothing is left but bones.',\n",
       " 'While I was changing my dress my eyes caught the notification on the mobile screen.',\n",
       " 'Without them my home and my days would be so monotonous and boring like a blank canvas.',\n",
       " 'Word about the bet spread throughout the saloon.'}"
      ]
     },
     "execution_count": 18,
     "metadata": {},
     "output_type": "execute_result"
    }
   ],
   "source": []
  },
  {
   "cell_type": "code",
   "execution_count": 15,
   "metadata": {},
   "outputs": [
    {
     "data": {
      "text/plain": [
       "{'A piece that he had written to clear the agony of his soul had had some far reaching consequence.\\n',\n",
       " 'A sincere apology is a heart melting and ego diminishing process for both the speaker and the recipient and gives strength to bury the hatchet.\\n',\n",
       " 'A strenuous workout with the horses under the watchful eyes of his master had taken its toll.\\n',\n",
       " 'A well branched ancient tree was there, spreading its branches over the wall itself.\\n',\n",
       " 'After hearing my question her face turned on and she replied with extreme passion.\\n',\n",
       " 'After the long years of warmth and summer, the cruel winter was approaching.\\n',\n",
       " 'Alas, words of praise cannot feed empty stomach.\\n',\n",
       " 'All feared that God would not overlook the slightest sin and would award exemplary punishment to the evil minded person.\\n',\n",
       " 'All the fingers acted to the occasion as needed and unlocked the door, all he is needs is a just a gentle push to open the door and jump.\\n',\n",
       " 'All this was drafted in broken sentences ,but was enough to unveil the signification.\\n',\n",
       " 'And the earth split under its power…\\n',\n",
       " 'Anger led to mistakes, something he could not afford on this mission.\\n',\n",
       " 'As the vacuum roared, Molly thought to herself, “why has God forsaken us?’’\\n',\n",
       " 'As we were just to reach his home, as it appeared from his relaxed facial expressions, his vehicle witnessed some problem and he turned for a garage.\\n',\n",
       " 'At the exit I hailed for a taxi, praying that it would arrive before the man did and we could escape this nightmare before any untoward incident occurred.\\n',\n",
       " 'Because the burn marks will stay on even when the burn is healed…\\n',\n",
       " 'Books and music were his greatest delights while not shuttling between prisons, detention centres and courts and while not catching up with case files or paper work.\\n',\n",
       " 'But Nature is getting vexed and becoming very angry because billions of human beings have started throwing filth, dirt and smoke in billions of tons carbon fumes , carbon dust, insecticides, chemicals and the villainous deathless plastic.\\n',\n",
       " 'But his smile was saying everything.\\n',\n",
       " 'But that sentence made her drink faster.\\n',\n",
       " 'But the pain keeps me firm on my path.\\n',\n",
       " 'But this burning ball of fire was much stronger and much hotter.\\n',\n",
       " 'But those incidents left a deep scar and only the bearer knows how much pain that scar caused.\\n',\n",
       " 'Calls streamed in.\\n',\n",
       " 'Cheap alcohols always had such a hit-you-hard effect but I had no choice – the group that I choose to merry-make with can afford only cheap country liquor in pouches.\\n',\n",
       " 'Chocolate fell from hand.\\n',\n",
       " 'Days passed, seasons cycled periodically.\\n',\n",
       " 'Few thin flocks of smoke aimlessly floated around before migrating to non-existence.\\n',\n",
       " 'Food no longer entertained the taste buds, and the aroma of coffee was now replaced by something bigger – and horrible…\\n',\n",
       " 'He had seen fire which gave out heat during the dry days.\\n',\n",
       " 'He had seen it traveling on the blue blanket above.\\n',\n",
       " 'He was heavily mortified and yet, the uppermost thing on his mind was air.\\n',\n",
       " 'He watched the man slicing up the boiled potatoes and arranging them in a circle around the plate, adding crispies and other delicacies into it, then finally topping it with chaat masala (the spicy mix that made his mouth water everytime) and a dollop of tarmarind chutney.\\n',\n",
       " 'Her askew arms were hanging loosely over humped shoulders.\\n',\n",
       " 'Her eyes opened to see not an ugly duckling, but a\\xa0beautiful swan.\\n',\n",
       " 'Her face was aglow in the setting sun even as her hair flew across it.\\n',\n",
       " 'Her head was bent and her hands were on her thighs.\\n',\n",
       " 'Her life and its problems seemed so far away and trivial; they seemed completely insignificant.\\n',\n",
       " 'Her mind was full of worries.\\n',\n",
       " 'Her skin glowed and the auburn hair cascaded freely on her beautifully tattered clothes.\\n',\n",
       " 'His confidence began to return and he fetched his bag, holding it now between his arms since the strap had come off in the hustle-bustle.\\n',\n",
       " 'His every subordinate and even few office staffs from other department also thought many times before approaching him.\\n',\n",
       " 'His eyes deeply lost in thoughts into the half blue, half cloudy and sunny sky.\\n',\n",
       " 'His eyes forgot to blink and became red.\\n',\n",
       " 'His eyes frantically roved over the space around him and he saw his modest bag suspended in the air supported by someone’s elbow and another’s shoulder.\\n',\n",
       " 'His eyes had darkened and his hands bled with the bruises of dried clay.\\n',\n",
       " 'His eyes opened in astonishment, after found that, the person got seriously injured but he is alive.\\n',\n",
       " 'His eyes were actually smaller than what they had been earlier.\\n',\n",
       " 'His legs had begun to give in as I felt that he could piss his pants any second now.\\n',\n",
       " 'His master, with his cronies, soon was sprawled on cushions laid haphazardly about, and all were totally soused.\\n',\n",
       " 'His mother’s shriek made him look up, he was blocking her way, not letting her come to his aid.\\n',\n",
       " 'His only reason to look forward was his child.\\n',\n",
       " 'His shabby seersucker suit was hanging rakishly over his slender body.\\n',\n",
       " 'His throat was dry.\\n',\n",
       " 'I feel nostalgic, I want to cry but tears would not come out as I am myself a drop.\\n',\n",
       " 'I see that the west wing has been lit up for a test run, immediately my mind rests on the most possible scenario, the worst!\\n',\n",
       " 'I started walking, but the time and distance seemed endless, my knees trembled and my breath came around laboured as I toiled up.\\n',\n",
       " 'I tried \\xa0my \\xa0best \\xa0with \\xa0utmost \\xa0difficulty \\xa0to \\xa0call \\xa0that \\xa0man \\xa0but \\xa0his \\xa0image \\xa0faded \\xa0out \\xa0in \\xa0the \\xa0cool, moisture – filled \\xa0evening \\xa0breeze \\xa0of \\xa0the beach, \\xa0eventually.\\n',\n",
       " 'Imagination is a disease enjoyed by the stressed, cublicle-d, middle management clone humanoids of mega large corporate companies.\\n',\n",
       " 'In this modern day, right has become wrong, and wrong has become right – such an irony!\\n',\n",
       " 'It was 6.18 p.m , as i sat sipping the hot brew, a dragging, moaning-groaning sound reached my ears, before i could realize what was happening the cup slipped from my hands, it teetered, tottered and was smashed into smitherens.\\n',\n",
       " 'It was crowded with energetic and enthusiastic youngsters who were having the best time of their lives on rides and playing arcade games in booths.\\n',\n",
       " 'It was nowhere near love.\\n',\n",
       " 'Its doors were open for anyone who seek knowledge and knowledge was all it offered.\\n',\n",
       " 'Just then, the doors mercifully opened and he vomited out onto a sidewalk while holding fast onto the door handle.\\n',\n",
       " 'Life is never a cake walk.\\n',\n",
       " 'Like a blinking of eyes two another days passed.\\n',\n",
       " 'Like vultures sniffing out carrion, the media sniffed out a story in the Station Platform.\\n',\n",
       " 'Little did I know that the events that lay ahead would forever leave a mark on my memory.\\n',\n",
       " 'My eyes frantically searching for the mains, as my mind formulates various scenarios that could have caused the spark.\\n',\n",
       " 'Neha noticed somebody, who was staring her, firstly she ignored but after sometime she saw the same pair of eyes staring her again in a pretty constant way, it happened for next half an hour or so and then she reached her collage.\\n',\n",
       " 'Nevertheless, more importantly these little changes in our life’s strategy can give us peace of mind that all of us are looking for in this rat race of becoming successful without forgetting and disappointing others and ourselves.\\n',\n",
       " 'Newly constructed marble stands for the spectators sparkled in the morning sun.\\n',\n",
       " 'Now, I like to think I am a tolerant man, but a tired mind can work tricks.\\n',\n",
       " 'Panting heavily, the laziness inside me prompted me to take a halt before turning back.\\n',\n",
       " 'Raindrops carried the things away at least once in year so I too changed my course with the course of stream.\\n',\n",
       " 'She was about to speak but her words were deafen by a loud horn.\\n',\n",
       " 'She was adding a whole cup of sugar into her coffee yet it tasted bland.\\n',\n",
       " 'Soon it was finished with a spoonful of powdered jaggery but the night grew lazily.\\n',\n",
       " 'Such a boring safety device and no girls can see his face, which he considered worth a look..\\n',\n",
       " 'Suddenly, his thoughts vanished, when the bus bumped on the speed-breakers.\\n',\n",
       " 'Tears rolling onto her pillow and her heart’s breaking and she thought of everything that could make her cry.\\n',\n",
       " 'Ten thousand years ago it was all greenery and soft rain and musical hilly streams and green carpet like pasteurs.\\n',\n",
       " 'That slap really shook me, woke me up, but before I could react the bus stopped and she got down.\\n',\n",
       " 'The Interest is fire to burn natural resources of small, little families taking loans and the interests grow to eat entire family soon.\\n',\n",
       " 'The air was dry and the wind left a bitter taste in my mouth as it blew past me.\\n',\n",
       " 'The air was gamy with the stench of gunpowder.\\n',\n",
       " 'The big ball of fire burnt with all its heat.\\n',\n",
       " 'The blue blanket changed its colour.\\n',\n",
       " 'The bus lurched to another stop.\\n',\n",
       " 'The cigarette kept burning itself without a pause.\\n',\n",
       " 'The coffee cup in my hand was almost empty.\\n',\n",
       " 'The contrast among the pinkish tinch of her face and her black attire helplessly multifolded her attractiveness.\\n',\n",
       " 'The cruel, lifeless statue in clay continued to smile knowingly.\\n',\n",
       " 'The darkness in the weather felt welcoming.\\n',\n",
       " 'The day I was to catch my flight for Hyderabad my excitement knew no bounds.\\n',\n",
       " 'The dolls watched as Erin swept up the remains of their daughter.\\n',\n",
       " 'The fat aunty was sleeping with her mouth open, head rolling on to her neighbors’ shoulder every time the bus made a turn.\\n',\n",
       " 'The flashing lights now eclipsing our rear view mirrors as the ringing from the sirens pounded our ear drums.\\n',\n",
       " 'The future could be brighter but this day was as real as the cracks in her fingers.\\n',\n",
       " 'The glorious morning beckoned him.\\n',\n",
       " 'The hammer looked too big in her tender hand.\\n',\n",
       " 'The harsh buzzing of the doorbell startled me.\\n',\n",
       " 'The informal discussion becomes a torturous conversation.\\n',\n",
       " 'The knocks on the door had faded.\\n',\n",
       " 'The muscles of my arm bunch as I pick up the heavy axe, that none else living can wield.\\n',\n",
       " 'The newly presented diamond ring is much enough to bring smile on his wife’s three-year old face.\\n',\n",
       " 'The only rule was the rule of existence and survival.\\n',\n",
       " 'The park looked deserted.\\n',\n",
       " 'The patrol car behind us slammed hard against our trunk and gave us both a powerful jolt upon our necks.\\n',\n",
       " 'The scars weren’t clearly visible behind her hands struggling with her hair, but anyone could make out it was her.\\n',\n",
       " 'The technologist and scientist, the news paper man, the tv man ,the professor and teacher –all say that the digital phone , I-pad, the TV , the aero plane and all such things shrunk the world as if the world was a paper to be crumpled between fingers.\\n',\n",
       " 'The train rushed into the platform in a wild frenzy.\\n',\n",
       " 'The two brats recovered their car and instead of going for a police complaint they decided to erase the incident from their memory so as to rid themselves of the pain of recalling the humiliation, when they woke up rubbing their nose in the city’s wasteland after a night gone wrong.\\n',\n",
       " 'The upper three buttons of his safari suit were open to making two heavy gold chains and a bumper crop of chest hair visible.\\n',\n",
       " 'The whole responsibility lies on the shoulders of the parents, some decent relatives lend you their helping hands, but the ones who throw their weight around and keep complaining are constantly play a spoil-sport , as true trouble-makers.\\n',\n",
       " 'The word retirement has not gone well with him despite of the fact, that he now helps my mother in house-hold chores, pays monthly bills himself instead of any helper, gets up early morning to take his dog out for walks, maintaining his lawn and kitchen garden all by himself , putting clothes in the washing machine and many such other things, which he himself was not aware till his retirement.\\n',\n",
       " 'The works they create takes several generations to understand and decipher, let alone explaining.\\n',\n",
       " 'Then a crushing straight right to his bloody nose and sent him in to the ropes once again and with that I send out a left hook then a right hook then another left hook and then another right hook, then I move down to the body and sent out a bone rattling left hook and then a right hook and then another left hook, then another right hook, then another left hook, each hit I land my opponent gets weaker, each hit he grows more tired, so he couldn’t bring his arms in to a firm guard and so my punches can slip right through it.\\n',\n",
       " 'Then an urge to view the attachments conquers me.\\n',\n",
       " 'There was not yet any police to visit the place as it was very sudden incident in the remote place of the ring road.\\n',\n",
       " 'These solutions can work as if it is a magic band for people who are facing these situations in daily life on regular basis.\\n',\n",
       " 'They sound like the music that used to fill the air around my pond.\\n',\n",
       " 'They were still staring at her, eyes opened wide like frightened children.\\n',\n",
       " 'This worm of curiousness was growing faster than fungi.\\n',\n",
       " 'Those school days of sixties reminded me how we listened to the commentaries by our radios, we are proud of having the TV set in our house these days and are fortunate to watch live telecast of all games & sports with our open eyes.\\n',\n",
       " 'Traveled to the moments that broke down his integrity, confidence and most importantly his happiness.\\n',\n",
       " 'Underneath the land that has witnessed the worst genocide of its life, bereaved rebels were planning their next move in a covert subterranean bunker.\\n',\n",
       " 'We had hardly gone a few paces on the platform when I heard a voice screaming in my direction.\\n',\n",
       " 'When water leaves your body, skin dries up, earth and insects pierce through your skin till nothing is left but bones.\\n',\n",
       " 'While I was changing my dress my eyes caught the notification on the mobile screen.\\n',\n",
       " 'Without them my home and my days would be so monotonous and boring like a blank canvas.\\n',\n",
       " 'Word about the bet spread throughout the saloon.\\n'}"
      ]
     },
     "execution_count": 15,
     "metadata": {},
     "output_type": "execute_result"
    }
   ],
   "source": [
    "set(katia_dataset['sentence'])"
   ]
  },
  {
   "cell_type": "code",
   "execution_count": 8,
   "metadata": {},
   "outputs": [
    {
     "data": {
      "text/plain": [
       "0      The technologist and scientist, the news paper...\n",
       "1      Ten thousand years ago it was all greenery and...\n",
       "2      All the fingers acted to the occasion as neede...\n",
       "3             His eyes forgot to blink and became red.\\n\n",
       "4       The harsh buzzing of the doorbell startled me.\\n\n",
       "                             ...                        \n",
       "128    The flashing lights now eclipsing our rear vie...\n",
       "129    The patrol car behind us slammed hard against ...\n",
       "130    The newly presented diamond ring is much enoug...\n",
       "131    Like a blinking of eyes two another days passe...\n",
       "132    It was 6.18 p.m , as i sat sipping the hot bre...\n",
       "Name: sentence, Length: 133, dtype: object"
      ]
     },
     "execution_count": 8,
     "metadata": {},
     "output_type": "execute_result"
    }
   ],
   "source": [
    "katia_dataset['sentence']"
   ]
  }
 ],
 "metadata": {
  "kernelspec": {
   "display_name": "Python 3",
   "language": "python",
   "name": "python3"
  },
  "language_info": {
   "codemirror_mode": {
    "name": "ipython",
    "version": 3
   },
   "file_extension": ".py",
   "mimetype": "text/x-python",
   "name": "python",
   "nbconvert_exporter": "python",
   "pygments_lexer": "ipython3",
   "version": "3.7.6"
  }
 },
 "nbformat": 4,
 "nbformat_minor": 4
}
